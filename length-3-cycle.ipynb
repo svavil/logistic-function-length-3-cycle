{
  "nbformat": 4,
  "nbformat_minor": 0,
  "metadata": {
    "colab": {
      "provenance": [],
      "authorship_tag": "ABX9TyM95eVvm8SvDx8OO3FZgeAN",
      "include_colab_link": true
    },
    "kernelspec": {
      "name": "python3",
      "display_name": "Python 3"
    },
    "language_info": {
      "name": "python"
    }
  },
  "cells": [
    {
      "cell_type": "markdown",
      "metadata": {
        "id": "view-in-github",
        "colab_type": "text"
      },
      "source": [
        "<a href=\"https://colab.research.google.com/github/svavil/logistic-function-length-3-cycle/blob/main/length-3-cycle.ipynb\" target=\"_parent\"><img src=\"https://colab.research.google.com/assets/colab-badge.svg\" alt=\"Open In Colab\"/></a>"
      ]
    },
    {
      "cell_type": "code",
      "execution_count": null,
      "metadata": {
        "id": "qHIgnegV5djA"
      },
      "outputs": [],
      "source": [
        "from sympy.abc import r, u\n",
        "from sympy import diff"
      ]
    },
    {
      "cell_type": "markdown",
      "source": [
        "Consider a function that takes two arguments, $r$ and $u$, and returns the value of the logistic function, $$f(r, u) = r u (1-u).$$ For the function to have a length 3 cycle, the condition\n",
        "$$f(f(f(u))) = u$$ should be fullfilled. This condition can be rewritten as a non-linear equation with respect to $r$ and $u$: $$F(r,u) = f(f(f(u))) - u = 0. $$ Starting from the initial approximation $u_0 = 0.9, r_0 = 1$, use Newton's method to iterate: $$u → u - F(r,u) / \\frac{\\partial F(r,u)}{\\partial u}, $$ $$r → r - F(r,u) / \\frac{\\partial F(r,u)}{\\partial r}$$"
      ],
      "metadata": {
        "id": "Du3LwbCa9nA2"
      }
    },
    {
      "cell_type": "code",
      "source": [
        "def f(r, u):\n",
        "  return(r * u * (1 - u))\n",
        "\n",
        "Newtons_LHS = f(r, f(r, f(r, u))) - u"
      ],
      "metadata": {
        "id": "VEXayqaf5zzL"
      },
      "execution_count": null,
      "outputs": []
    },
    {
      "cell_type": "code",
      "source": [
        "r0 = 1\n",
        "u0 = 0.9\n",
        "\n",
        "for i in range(20):\n",
        "  deltar = -Newtons_LHS.subs(r, r0).subs(u, u0) / diff(Newtons_LHS, r).subs(r, r0).subs(u, u0)\n",
        "  deltau = -Newtons_LHS.subs(r, r0).subs(u, u0) / diff(Newtons_LHS, u).subs(r, r0).subs(u, u0)\n",
        "\n",
        "  r0 = max(r0 + deltar, 0)\n",
        "  u0 = min(max(u0 + deltau, 0), 1)\n",
        "\n",
        "r0, u0"
      ],
      "metadata": {
        "colab": {
          "base_uri": "https://localhost:8080/"
        },
        "id": "NJnPFko76PAc",
        "outputId": "34927860-a758-4381-d753-13ae84f900ac"
      },
      "execution_count": null,
      "outputs": [
        {
          "output_type": "execute_result",
          "data": {
            "text/plain": [
              "(4.75101130656492, 0.286978935090988)"
            ]
          },
          "metadata": {},
          "execution_count": 21
        }
      ]
    }
  ]
}